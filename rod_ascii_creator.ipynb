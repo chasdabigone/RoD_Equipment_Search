{
  "nbformat": 4,
  "nbformat_minor": 0,
  "metadata": {
    "colab": {
      "provenance": [],
      "name": "rod_ascii_creator.ipynb",
      "authorship_tag": "ABX9TyPQyun8PFXSBpbrGlEjQKvL",
      "include_colab_link": true
    },
    "kernelspec": {
      "name": "python3",
      "display_name": "Python 3"
    },
    "language_info": {
      "name": "python"
    }
  },
  "cells": [
    {
      "cell_type": "markdown",
      "metadata": {
        "id": "view-in-github",
        "colab_type": "text"
      },
      "source": [
        "<a href=\"https://colab.research.google.com/github/chasdabigone/RoD_Equipment_Search/blob/main/rod_ascii_creator.ipynb\" target=\"_parent\"><img src=\"https://colab.research.google.com/assets/colab-badge.svg\" alt=\"Open In Colab\"/></a>"
      ]
    },
    {
      "cell_type": "markdown",
      "source": [
        "\n",
        "# 1. Upload your file to the gui on the left as 'image.jpg'\n",
        "# 2. Click runtime->run all\n",
        "# 3. picture.html (viewable) and picture.txt (ascii) will be output as files\n",
        "# 4. change width_ratio until picture height equals 24 lines"
      ],
      "metadata": {
        "id": "tpczsBHvgbZN"
      }
    },
    {
      "cell_type": "code",
      "source": [],
      "metadata": {
        "id": "ZJexdkQ-iIfC"
      },
      "execution_count": null,
      "outputs": []
    },
    {
      "cell_type": "code",
      "source": [
        "pip install ascii_magic"
      ],
      "metadata": {
        "colab": {
          "base_uri": "https://localhost:8080/"
        },
        "id": "5kb4hrv4TZju",
        "outputId": "54ca8690-9852-4af5-ffc2-6e352ceb12d0"
      },
      "execution_count": null,
      "outputs": [
        {
          "output_type": "stream",
          "name": "stdout",
          "text": [
            "Collecting ascii_magic\n",
            "  Downloading ascii_magic-2.3.0-py3-none-any.whl (733 kB)\n",
            "\u001b[?25l     \u001b[90m━━━━━━━━━━━━━━━━━━━━━━━━━━━━━━━━━━━━━━━━\u001b[0m \u001b[32m0.0/733.2 kB\u001b[0m \u001b[31m?\u001b[0m eta \u001b[36m-:--:--\u001b[0m\r\u001b[2K     \u001b[91m━━━━━━━━━━━━━━━━━━\u001b[0m\u001b[90m╺\u001b[0m\u001b[90m━━━━━━━━━━━━━━━━━━━━━\u001b[0m \u001b[32m337.9/733.2 kB\u001b[0m \u001b[31m9.9 MB/s\u001b[0m eta \u001b[36m0:00:01\u001b[0m\r\u001b[2K     \u001b[90m━━━━━━━━━━━━━━━━━━━━━━━━━━━━━━━━━━━━━━━━\u001b[0m \u001b[32m733.2/733.2 kB\u001b[0m \u001b[31m14.2 MB/s\u001b[0m eta \u001b[36m0:00:00\u001b[0m\n",
            "\u001b[?25hCollecting colorama (from ascii_magic)\n",
            "  Downloading colorama-0.4.6-py2.py3-none-any.whl (25 kB)\n",
            "Requirement already satisfied: Pillow in /usr/local/lib/python3.10/dist-packages (from ascii_magic) (9.4.0)\n",
            "Installing collected packages: colorama, ascii_magic\n",
            "Successfully installed ascii_magic-2.3.0 colorama-0.4.6\n"
          ]
        }
      ]
    },
    {
      "cell_type": "code",
      "execution_count": 11,
      "metadata": {
        "colab": {
          "base_uri": "https://localhost:8080/",
          "height": 122
        },
        "id": "9XWCzIspP2wM",
        "outputId": "676fdbb4-8eb9-4f55-8036-8ff919ce8526",
        "cellView": "code"
      },
      "outputs": [
        {
          "output_type": "execute_result",
          "data": {
            "text/plain": [
              "'\\x1b[31m#\\x1b[31mn\\x1b[31mu\\x1b[31mL\\x1b[31mj\\x1b[31mj\\x1b[31mL\\x1b[90m>\\x1b[90m_\\x1b[90m/\\x1b[90mv\\x1b[31m[\\x1b[31my\\x1b[31m3\\x1b[31mf\\x1b[90mI\\x1b[90me\\x1b[90mz\\x1b[90mo\\x1b[90m7\\x1b[90m]\\x1b[90m<\\x1b[90mi\\x1b[90m)\\x1b[90m=\\x1b[90m=\\x1b[90m?\\x1b[90m}\\x1b[90m<\\x1b[90ml\\x1b[90m*\\x1b[90m*\\x1b[90mt\\x1b[31mt\\x1b[31mu\\x1b[90m]\\x1b[31m[\\x1b[31mT\\x1b[31mC\\x1b[90mx\\x1b[90m.\\x1b[90m\\\\\\x1b[90m7\\x1b[90m7\\x1b[90m7\\x1b[90m7\\x1b[90mz\\x1b[90ma\\x1b[90m<\\x1b[90ms\\x1b[90mc\\x1b[90mi\\x1b[90mc\\x1b[90m>\\x1b[90m:\\x1b[90m;\\x1b[90m\\'\\x1b[90mi\\x1b[31ma\\x1b[31ma\\x1b[31ma\\x1b[31m!\\x1b[90m|\\x1b[31m*\\x1b[31mj\\x1b[31mj\\x1b[31mu\\x1b[31m7\\x1b[31mz\\x1b[31m[\\x1b[31mu\\x1b[31m7\\x1b[31mI\\x1b[90m)\\x1b[31mf\\x1b[31my\\x1b[31mw\\x1b[31mf\\x1b[31mL\\x1b[90m\"\\n\\x1b[31mz\\x1b[31mz\\x1b[31mj\\x1b[31mj\\x1b[31mu\\x1b[90mx\\x1b[90m|\\x1b[31m[\\x1b[31m#\\x1b[31mj\\x1b[31m3\\x1b[31m6\\x1b[31my\\x1b[31mn\\x1b[31mu\\x1b[90m}\\x1b[90mr\\x1b[90m1\\x1b[90m*\\x1b[90mu\\x1b[37m4\\x1b[37mh\\x1b[37md\\x1b[37mX\\x1b[37md\\x1b[37mm\\x1b[31mf\\x1b[31m#\\x1b[31mo\\x1b[31m#\\x1b[31mu\\x1b[31m1\\x1b[31m7\\x1b[31mJ\\x1b[31mu\\x1b[90m}\\x1b[90mI\\x1b[90m*\\x1b[90m*\\x1b[90mI\\x1b[90m=\\x1b[90m|\\x1b[90m}\\x1b[90m1\\x1b[90m!\\x1b[90m?\\x1b[90m!\\x1b[90m!\\x1b[90m}\\x1b[31mJ\\x1b[31mw\\x1b[31mw\\x1b[31mw\\x1b[90m*\\x1b[90mc\\x1b[31m!\\x1b[90mI\\x1b[90mI\\x1b[31m!\\x1b[31m1\\x1b[31ma\\x1b[31mt\\x1b[31m}\\x1b[90m*\\x1b[31m?\\x1b[31m[\\x1b[31m]\\x1b[31m]\\x1b[31mI\\x1b[31m*\\x1b[31mn\\x1b[31mj\\x1b[31m{\\x1b[90m\"\\x1b[31my\\x1b[31my\\x1b[31my\\x1b[31mp\\x1b[31mJ\\x1b[90m|\\n\\x1b[31m[\\x1b[90m?\\x1b[31m[\\x1b[31m7\\x1b[31m7\\x1b[90ml\\x1b[90ml\\x1b[90mI\\x1b[31ma\\x1b[31m#\\x1b[31mL\\x1b[31mt\\x1b[90m!\\x1b[90mu\\x1b[90mT\\x1b[90m!\\x1b[90ml\\x1b[90m{\\x1b[31m{\\x1b[31mt\\x1b[31mw\\x1b[31m3\\x1b[31mJ\\x1b[37m4\\x1b[37mh\\x1b[37m4\\x1b[37mG\\x1b[90mJ\\x1b[90mv\\x1b[90ml\\x1b[90mr\\x1b[90m>\\x1b[90m/\\x1b[90ml\\x1b[90m7\\x1b[90mT\\x1b[37my\\x1b[37m2\\x1b[37m2\\x1b[37m3\\x1b[37m2\\x1b[37my\\x1b[90mC\\x1b[90mn\\x1b[90mo\\x1b[90m?\\x1b[90mi\\x1b[90m\\\\\\x1b[90ml\\x1b[90mv\\x1b[90mv\\x1b[90mx\\x1b[90mr\\x1b[90m|\\x1b[90m%\\x1b[90me\\x1b[90m7\\x1b[90m!\\x1b[90m}\\x1b[90m*\\x1b[31mC\\x1b[31m3\\x1b[31mJ\\x1b[31mL\\x1b[31m2\\x1b[31m3\\x1b[31my\\x1b[31m2\\x1b[31m1\\x1b[90m/\\x1b[31mI\\x1b[31m!\\x1b[90ml\\x1b[90m<\\x1b[90m*\\x1b[90m*\\x1b[90m*\\x1b[90ms\\x1b[90mx\\x1b[90m\\\\\\n\\x1b[33mq\\x1b[31m[\\x1b[31m]\\x1b[31mF\\x1b[31m2\\x1b[31m2\\x1b[31mJ\\x1b[31me\\x1b[31m?\\x1b[90m\"\\x1b[90m%\\x1b[31m]\\x1b[90mr\\x1b[90mI\\x1b[31mz\\x1b[90mx\\x1b[90m)\\x1b[31m1\\x1b[31m7\\x1b[31mz\\x1b[31me\\x1b[31mt\\x1b[31m[\\x1b[31m1\\x1b[31m[\\x1b[31mt\\x1b[31ma\\x1b[90mc\\x1b[90m}\\x1b[90mc\\x1b[90m<\\x1b[90m?\\x1b[90m[\\x1b[90mo\\x1b[90m?\\x1b[90ml\\x1b[37mg\\x1b[37mV\\x1b[37mh\\x1b[37mV\\x1b[37m2\\x1b[37mf\\x1b[37md\\x1b[37mX\\x1b[37m4\\x1b[37mS\\x1b[37m2\\x1b[90mJ\\x1b[90mj\\x1b[90mI\\x1b[90m<\\x1b[90m;\\x1b[90m\\'\\x1b[90m_\\x1b[90m^\\x1b[90m\"\\x1b[90m=\\x1b[90m;\\x1b[90m:\\x1b[90m=\\x1b[90m/\\x1b[90m|\\x1b[90m\\\\\\x1b[90m<\\x1b[90mi\\x1b[31mI\\x1b[31mI\\x1b[31m1\\x1b[90mv\\x1b[31m}\\x1b[31mJ\\x1b[31mf\\x1b[31m3\\x1b[31m5\\x1b[31my\\x1b[31mn\\x1b[31m7\\x1b[90m)\\x1b[90mv\\x1b[31mf\\n\\x1b[31mn\\x1b[90ml\\x1b[90ml\\x1b[31mu\\x1b[31mL\\x1b[31mu\\x1b[31mJ\\x1b[31mJ\\x1b[31mL\\x1b[90m}\\x1b[90mI\\x1b[31me\\x1b[31m!\\x1b[90m}\\x1b[31m1\\x1b[90m%\\x1b[31m]\\x1b[31mz\\x1b[31m7\\x1b[31mo\\x1b[31mo\\x1b[31mo\\x1b[31me\\x1b[31me\\x1b[31me\\x1b[31ma\\x1b[31ma\\x1b[31m?\\x1b[90m{\\x1b[31my\\x1b[31m7\\x1b[90mc\\x1b[90m?\\x1b[90m}\\x1b[90ml\\x1b[90m%\\x1b[37m5\\x1b[37mV\\x1b[37m4\\x1b[37mG\\x1b[37mh\\x1b[90m*\\x1b[90mn\\x1b[37mq\\x1b[37mh\\x1b[37mh\\x1b[37mq\\x1b[90mn\\x1b[37mp\\x1b[37m5\\x1b[90mC\\x1b[90mn\\x1b[90mj\\x1b[90m1\\x1b[90mI\\x1b[90ms\\x1b[90m<\\x1b[90m>\\x1b[90m{\\x1b[90mi\\x1b[90m|\\x1b[90m\\'\\x1b[90m`\\x1b[90m.\\x1b[90m \\x1b[90m%\\x1b[90m%\\x1b[31mz\\x1b[31mL\\x1b[31m#\\x1b[31m#\\x1b[31mL\\x1b[31mu\\x1b[31mu\\x1b[31mw\\x1b[31mw\\x1b[31m#\\x1b[90m\\\\\\x1b[90m\\\\\\x1b[31m#\\n\\x1b[31m?\\x1b[31m!\\x1b[31m1\\x1b[31mt\\x1b[31ma\\x1b[31ma\\x1b[31mt\\x1b[90m>\\x1b[90m:\\x1b[90m;\\x1b[90m,\\x1b[90m=\\x1b[90m/\\x1b[90m\\'\\x1b[90m+\\x1b[90m=\\x1b[31ml\\x1b[31mo\\x1b[31me\\x1b[31me\\x1b[31me\\x1b[31me\\x1b[31ma\\x1b[31ma\\x1b[31me\\x1b[31me\\x1b[31ma\\x1b[31mI\\x1b[90m{\\x1b[90ma\\x1b[90mt\\x1b[90m\"\\x1b[90m:\\x1b[90m\\\\\\x1b[31m*\\x1b[31m]\\x1b[31ms\\x1b[31m1\\x1b[31m1\\x1b[31m1\\x1b[31ma\\x1b[90mi\\x1b[31mI\\x1b[31m#\\x1b[31my\\x1b[31mm\\x1b[37mg\\x1b[37mV\\x1b[90m7\\x1b[37m5\\x1b[90mu\\x1b[37my\\x1b[37mf\\x1b[37mV\\x1b[37mp\\x1b[90m7\\x1b[90me\\x1b[90mv\\x1b[90m1\\x1b[90mj\\x1b[90mo\\x1b[90mj\\x1b[90mL\\x1b[90mL\\x1b[90mu\\x1b[90mz\\x1b[90mt\\x1b[90m*\\x1b[90m>\\x1b[90m^\\x1b[90m,\\x1b[90m;\\x1b[90m;\\x1b[90m\\\\\\x1b[31me\\x1b[31m7\\x1b[31mo\\x1b[31m]\\x1b[31m[\\x1b[31m!\\n\\x1b[31mF\\x1b[31mS\\x1b[33mg\\x1b[31mS\\x1b[31mF\\x1b[31mp\\x1b[31m6\\x1b[90ml\\x1b[90m-\\x1b[90m\\'\\x1b[90m_\\x1b[90m:\\x1b[90m:\\x1b[90m_\\x1b[90m,\\x1b[90m,\\x1b[90m:\\x1b[90ml\\x1b[31m?\\x1b[31m]\\x1b[31mt\\x1b[31ma\\x1b[31ma\\x1b[31mt\\x1b[31m1\\x1b[31m!\\x1b[31m*\\x1b[90mr\\x1b[90mo\\x1b[90mt\\x1b[90m{\\x1b[31mr\\x1b[31mI\\x1b[31mt\\x1b[31mt\\x1b[31m1\\x1b[31mI\\x1b[31ms\\x1b[31mr\\x1b[31mr\\x1b[31ms\\x1b[31m%\\x1b[31mc\\x1b[31mc\\x1b[31m*\\x1b[31m{\\x1b[31m}\\x1b[31m?\\x1b[90mc\\x1b[31m!\\x1b[31mp\\x1b[37mE\\x1b[37m2\\x1b[31mJ\\x1b[90m{\\x1b[90mx\\x1b[37m3\\x1b[37m4\\x1b[37mZ\\x1b[37mq\\x1b[90mu\\x1b[90mn\\x1b[90m#\\x1b[90mT\\x1b[37mG\\x1b[37m&\\x1b[37mk\\x1b[37mP\\x1b[37mE\\x1b[37mF\\x1b[90ms\\x1b[90m`\\x1b[90m`\\x1b[90m)\\x1b[31mF\\x1b[31mF\\x1b[31mF\\x1b[31mp\\x1b[31mm\\x1b[31m2\\n\\x1b[31mz\\x1b[31mj\\x1b[31m!\\x1b[31m1\\x1b[90mI\\x1b[31m1\\x1b[31mt\\x1b[90m<\\x1b[90m\\'\\x1b[90m\\'\\x1b[90m_\\x1b[90m-\\x1b[90m-\\x1b[90m_\\x1b[90m_\\x1b[90m\\'\\x1b[90m_\\x1b[90m:\\x1b[90m,\\x1b[90m:\\x1b[90m^\\x1b[90m/\\x1b[90m)\\x1b[31m!\\x1b[31m[\\x1b[31m[\\x1b[31mt\\x1b[31mI\\x1b[90mv\\x1b[31ml\\x1b[31m!\\x1b[31mt\\x1b[31mt\\x1b[31mt\\x1b[31mt\\x1b[31m1\\x1b[31mt\\x1b[31mt\\x1b[31mt\\x1b[31m1\\x1b[31m1\\x1b[31m[\\x1b[31ms\\x1b[31mc\\x1b[31m{\\x1b[31m*\\x1b[31ml\\x1b[31ml\\x1b[31mI\\x1b[31m*\\x1b[31mc\\x1b[31mr\\x1b[31m{\\x1b[31m!\\x1b[90m:\\x1b[90mI\\x1b[37mb\\x1b[37mk\\x1b[90mC\\x1b[90mJ\\x1b[90mt\\x1b[90mJ\\x1b[37mF\\x1b[90mt\\x1b[37mF\\x1b[90m#\\x1b[90mJ\\x1b[37my\\x1b[37mP\\x1b[37mY\\x1b[90mC\\x1b[90m_\\x1b[90m:\\x1b[90m\"\\x1b[31ma\\x1b[31me\\x1b[31me\\x1b[31mt\\x1b[31m1\\x1b[90m{\\n\\x1b[31m5\\x1b[31me\\x1b[90m_\\x1b[90m\\'\\x1b[90m\\'\\x1b[90m\\'\\x1b[90m_\\x1b[90m\\'\\x1b[90m\\'\\x1b[90m\\'\\x1b[90m>\\x1b[90ms\\x1b[31m?\\x1b[90ml\\x1b[90m\"\\x1b[90m\\'\\x1b[90m-\\x1b[90m_\\x1b[90m\\'\\x1b[90m:\\x1b[90m;\\x1b[90m^\\x1b[90m+\\x1b[90mv\\x1b[31m[\\x1b[31m[\\x1b[31ml\\x1b[31mr\\x1b[31ma\\x1b[31me\\x1b[31ma\\x1b[31mt\\x1b[31mt\\x1b[31mt\\x1b[31mt\\x1b[31mt\\x1b[31m{\\x1b[31mc\\x1b[31mc\\x1b[90m%\\x1b[31mx\\x1b[31m}\\x1b[31mt\\x1b[31mt\\x1b[31m1\\x1b[31m1\\x1b[31m1\\x1b[31m]\\x1b[31mI\\x1b[31m!\\x1b[31m!\\x1b[31m?\\x1b[31m[\\x1b[31m[\\x1b[90m\\\\\\x1b[90m,\\x1b[90m>\\x1b[90ma\\x1b[90mz\\x1b[37m5\\x1b[37m2\\x1b[37my\\x1b[37m5\\x1b[37m5\\x1b[37my\\x1b[37m2\\x1b[90mw\\x1b[90mJ\\x1b[31m#\\x1b[90mt\\x1b[90m|\\x1b[90mI\\x1b[90m*\\x1b[31mo\\x1b[31mj\\x1b[31mL\\x1b[31mT\\x1b[31mT\\x1b[31mu\\x1b[31mj\\n\\x1b[90m%\\x1b[90m<\\x1b[90m\\'\\x1b[90m_\\x1b[90m\\'\\x1b[90m_\\x1b[90m_\\x1b[90m\\'\\x1b[90m_\\x1b[90m`\\x1b[90mr\\x1b[31mm\\x1b[31m6\\x1b[31mf\\x1b[31mj\\x1b[31mu\\x1b[31m?\\x1b[90m+\\x1b[90m\\'\\x1b[90m=\\x1b[90m=\\x1b[90m^\\x1b[90m;\\x1b[90m;\\x1b[90m+\\x1b[90mi\\x1b[31m!\\x1b[31me\\x1b[31m#\\x1b[31mj\\x1b[31mt\\x1b[31mt\\x1b[31mt\\x1b[31mt\\x1b[31mt\\x1b[31mt\\x1b[31m[\\x1b[31m?\\x1b[31m?\\x1b[31mI\\x1b[31m}\\x1b[31m?\\x1b[31m1\\x1b[31m1\\x1b[31m1\\x1b[31mt\\x1b[31m?\\x1b[31m%\\x1b[31mx\\x1b[31mx\\x1b[31mc\\x1b[31m]\\x1b[31m1\\x1b[31m[\\x1b[31m}\\x1b[90m/\\x1b[90m:\\x1b[90m`\\x1b[90m|\\x1b[90ms\\x1b[90m?\\x1b[90mx\\x1b[90m|\\x1b[90m)\\x1b[90m)\\x1b[31ma\\x1b[31mu\\x1b[31mT\\x1b[31mL\\x1b[31mI\\x1b[90ml\\x1b[31m1\\x1b[90m%\\x1b[31mz\\x1b[31mJ\\x1b[31m#\\x1b[31mJ\\x1b[31mf\\x1b[31m3\\x1b[31m2\\n\\x1b[90m%\\x1b[90m>\\x1b[90m+\\x1b[90m*\\x1b[90m{\\x1b[90mr\\x1b[90m{\\x1b[90m\"\\x1b[90m<\\x1b[90mv\\x1b[90m<\\x1b[31mt\\x1b[31mT\\x1b[31my\\x1b[31m5\\x1b[31m5\\x1b[31mt\\x1b[90m)\\x1b[90mx\\x1b[90ml\\x1b[90ml\\x1b[90mc\\x1b[90mc\\x1b[90m)\\x1b[90m|\\x1b[31m]\\x1b[31mt\\x1b[31m[\\x1b[31m[\\x1b[31mt\\x1b[31mt\\x1b[31mt\\x1b[31mt\\x1b[31mt\\x1b[31m1\\x1b[31m1\\x1b[31mx\\x1b[90m\"\\x1b[90m|\\x1b[31m{\\x1b[31mt\\x1b[31mt\\x1b[31mt\\x1b[31m[\\x1b[31m1\\x1b[31m1\\x1b[31m[\\x1b[31m?\\x1b[31m?\\x1b[31m]\\x1b[31mI\\x1b[31m]\\x1b[31mj\\x1b[31my\\x1b[31mo\\x1b[31m{\\x1b[90m\"\\x1b[90me\\x1b[37mh\\x1b[33mf\\x1b[90mi\\x1b[90m+\\x1b[31mv\\x1b[90m<\\x1b[90mc\\x1b[31m7\\x1b[31mT\\x1b[31ma\\x1b[31mt\\x1b[31mL\\x1b[31mL\\x1b[31m!\\x1b[90m=\\x1b[90mr\\x1b[31m?\\x1b[90mI\\x1b[90mI\\x1b[31mI\\x1b[31mI\\x1b[90m{\\n\\x1b[31m5\\x1b[31mj\\x1b[90mi\\x1b[31mp\\x1b[31m5\\x1b[31mp\\x1b[31mp\\x1b[90mc\\x1b[31m*\\x1b[31my\\x1b[31mC\\x1b[31mo\\x1b[31m}\\x1b[90m{\\x1b[31m]\\x1b[90ml\\x1b[90mr\\x1b[31m#\\x1b[31mw\\x1b[31mw\\x1b[31mw\\x1b[31mw\\x1b[31mf\\x1b[31m!\\x1b[31mc\\x1b[31mt\\x1b[31m7\\x1b[37mm\\x1b[31mJ\\x1b[31m1\\x1b[31mt\\x1b[31mt\\x1b[31mt\\x1b[31mt\\x1b[31m1\\x1b[31m1\\x1b[31m!\\x1b[31m*\\x1b[31mI\\x1b[31m1\\x1b[31m1\\x1b[31mI\\x1b[90mi\\x1b[31ml\\x1b[31m1\\x1b[31m1\\x1b[31m%\\x1b[90m\"\\x1b[90m\\\\\\x1b[31m?\\x1b[31mt\\x1b[31m[\\x1b[31mT\\x1b[37mk\\x1b[31m#\\x1b[31m!\\x1b[90ms\\x1b[90mT\\x1b[31mz\\x1b[31me\\x1b[31m{\\x1b[31m?\\x1b[31ml\\x1b[31ml\\x1b[31m{\\x1b[31mr\\x1b[90m<\\x1b[90m*\\x1b[31mo\\x1b[31m1\\x1b[31mo\\x1b[31my\\x1b[90m)\\x1b[31mL\\x1b[31mF\\x1b[31m3\\x1b[31mf\\x1b[31mz\\x1b[31mt\\x1b[31mu\\n\\x1b[31mT\\x1b[90m*\\x1b[90m\\\\\\x1b[31m7\\x1b[31me\\x1b[31me\\x1b[31mz\\x1b[90m\\\\\\x1b[90mv\\x1b[31me\\x1b[31me\\x1b[31mj\\x1b[31mz\\x1b[31me\\x1b[31m!\\x1b[31m!\\x1b[31m7\\x1b[31mo\\x1b[31me\\x1b[31me\\x1b[31me\\x1b[31me\\x1b[31me\\x1b[90mv\\x1b[31m{\\x1b[31m1\\x1b[31mL\\x1b[37mk\\x1b[37mg\\x1b[31m[\\x1b[31mI\\x1b[31m%\\x1b[90m>\\x1b[31mx\\x1b[31mt\\x1b[31mt\\x1b[31m1\\x1b[31m1\\x1b[31m1\\x1b[31m[\\x1b[31m1\\x1b[90m>\\x1b[90m/\\x1b[31m?\\x1b[31m1\\x1b[31m1\\x1b[31m!\\x1b[31m*\\x1b[31m!\\x1b[31m1\\x1b[31m1\\x1b[31m[\\x1b[31mt\\x1b[31mT\\x1b[31me\\x1b[31m1\\x1b[31mv\\x1b[90ml\\x1b[31m#\\x1b[31mu\\x1b[31m1\\x1b[31ma\\x1b[31m*\\x1b[31m*\\x1b[31mI\\x1b[31ml\\x1b[90m<\\x1b[90m%\\x1b[90m\"\\x1b[90mi\\x1b[90mx\\x1b[90m>\\x1b[90m^\\x1b[31m!\\x1b[31mj\\x1b[31m7\\x1b[31me\\x1b[90mr\\x1b[90m*\\x1b[31m1\\n\\x1b[90m\"\\x1b[31me\\x1b[31mu\\x1b[31mT\\x1b[31m#\\x1b[31mT\\x1b[31mT\\x1b[31m#\\x1b[31mJ\\x1b[31mt\\x1b[90m[\\x1b[31me\\x1b[31m1\\x1b[90m!\\x1b[90m?\\x1b[90m\\\\\\x1b[90m;\\x1b[90m;\\x1b[90m,\\x1b[90m:\\x1b[90m\\'\\x1b[90m\\'\\x1b[90m_\\x1b[90m:\\x1b[90mv\\x1b[31mt\\x1b[31mt\\x1b[37mS\\x1b[37m4\\x1b[31m1\\x1b[31m*\\x1b[31mc\\x1b[90mv\\x1b[90m\\\\\\x1b[90mi\\x1b[31ml\\x1b[31mI\\x1b[31m!\\x1b[31m]\\x1b[31m[\\x1b[31m1\\x1b[31mI\\x1b[31ms\\x1b[31m[\\x1b[31m1\\x1b[31m1\\x1b[31m1\\x1b[31m!\\x1b[31mI\\x1b[31m]\\x1b[31m[\\x1b[31m[\\x1b[31m[\\x1b[31m]\\x1b[31m[\\x1b[31m[\\x1b[90m>\\x1b[31mI\\x1b[31m]\\x1b[31mI\\x1b[31m{\\x1b[31mc\\x1b[31mi\\x1b[90m<\\x1b[90m\"\\x1b[90m{\\x1b[31mo\\x1b[31mo\\x1b[31m7\\x1b[31m7\\x1b[90m?\\x1b[90mI\\x1b[31mo\\x1b[31m7\\x1b[31m7\\x1b[31me\\x1b[31mo\\x1b[31m?\\x1b[90m`\\x1b[90m^\\n\\x1b[90m/\\x1b[31mf\\x1b[33mg\\x1b[33mV\\x1b[31m6\\x1b[33mV\\x1b[33mV\\x1b[31m5\\x1b[31mJ\\x1b[31m1\\x1b[90m{\\x1b[31mj\\x1b[31mf\\x1b[33m6\\x1b[33mS\\x1b[90mc\\x1b[90m,\\x1b[90m;\\x1b[90m:\\x1b[90m:\\x1b[90m\\'\\x1b[90m\\'\\x1b[90m_\\x1b[90m_\\x1b[90m;\\x1b[31ml\\x1b[31m1\\x1b[31me\\x1b[31mL\\x1b[31m1\\x1b[31m1\\x1b[31mt\\x1b[31m1\\x1b[31m]\\x1b[31m*\\x1b[31m%\\x1b[90m|\\x1b[90m\"\\x1b[90m|\\x1b[90m\\\\\\x1b[90m<\\x1b[90mi\\x1b[31m%\\x1b[31mc\\x1b[31ml\\x1b[31ml\\x1b[31mc\\x1b[90m)\\x1b[90m|\\x1b[31ml\\x1b[31m1\\x1b[31m[\\x1b[31m[\\x1b[31m1\\x1b[31m]\\x1b[90m)\\x1b[90m,\\x1b[90m;\\x1b[90m,\\x1b[90m\\'\\x1b[90m_\\x1b[90m-\\x1b[90m_\\x1b[90m_\\x1b[90m_\\x1b[90m{\\x1b[31mL\\x1b[31mL\\x1b[31mu\\x1b[31mn\\x1b[31m1\\x1b[31mf\\x1b[31mF\\x1b[31m5\\x1b[31m5\\x1b[31m2\\x1b[31my\\x1b[31ma\\x1b[90m-\\x1b[90m/\\n\\x1b[90m<\\x1b[31m]\\x1b[31m[\\x1b[31ma\\x1b[90m*\\x1b[90m!\\x1b[90m}\\x1b[31m]\\x1b[31me\\x1b[90mc\\x1b[31mw\\x1b[31m2\\x1b[31m#\\x1b[31mn\\x1b[31m1\\x1b[90m|\\x1b[90m:\\x1b[90m;\\x1b[90m,\\x1b[90m:\\x1b[90m\\'\\x1b[90m\\'\\x1b[90m:\\x1b[90m<\\x1b[31m1\\x1b[31m}\\x1b[31mx\\x1b[31mI\\x1b[31m[\\x1b[31mt\\x1b[31m1\\x1b[31m1\\x1b[31m1\\x1b[31m[\\x1b[31m1\\x1b[31m1\\x1b[31m?\\x1b[31m%\\x1b[90m)\\x1b[90m\"\\x1b[90m\"\\x1b[90m\"\\x1b[90m\\\\\\x1b[31mv\\x1b[31ms\\x1b[31m}\\x1b[31mI\\x1b[31m?\\x1b[31m}\\x1b[31m}\\x1b[31mI\\x1b[31mI\\x1b[31m?\\x1b[31m*\\x1b[90m|\\x1b[90m\\'\\x1b[90m-\\x1b[90m-\\x1b[90m-\\x1b[90m_\\x1b[90m_\\x1b[90m_\\x1b[90m\\'\\x1b[90m:\\x1b[90m:\\x1b[90m>\\x1b[90ms\\x1b[90mr\\x1b[90mr\\x1b[90m{\\x1b[90mr\\x1b[90mc\\x1b[90mr\\x1b[90ms\\x1b[31m?\\x1b[31m!\\x1b[31mI\\x1b[90m)\\x1b[90m,\\x1b[90m\\\\\\n\\x1b[31mT\\x1b[31m5\\x1b[31mo\\x1b[31my\\x1b[31mf\\x1b[31mT\\x1b[90mc\\x1b[31ma\\x1b[31mf\\x1b[31m?\\x1b[90mI\\x1b[31mm\\x1b[31mF\\x1b[31m5\\x1b[31mw\\x1b[31me\\x1b[90mc\\x1b[90m:\\x1b[90m,\\x1b[90m:\\x1b[90m\\'\\x1b[90m=\\x1b[31mI\\x1b[31mn\\x1b[31m#\\x1b[31me\\x1b[31m!\\x1b[31mx\\x1b[90m)\\x1b[31mc\\x1b[31mI\\x1b[31m[\\x1b[31m1\\x1b[31m1\\x1b[31m1\\x1b[31m[\\x1b[31m1\\x1b[31m1\\x1b[31m]\\x1b[31m?\\x1b[31m?\\x1b[31m!\\x1b[31m]\\x1b[31m[\\x1b[31m!\\x1b[31m*\\x1b[31m{\\x1b[31m*\\x1b[31mI\\x1b[31mI\\x1b[31m?\\x1b[31m?\\x1b[31mI\\x1b[31mx\\x1b[90m\\'\\x1b[90m`\\x1b[90m-\\x1b[90m-\\x1b[90m_\\x1b[90m_\\x1b[90m_\\x1b[90m\\'\\x1b[90m:\\x1b[90m:\\x1b[90m,\\x1b[90m,\\x1b[90m,\\x1b[90m;\\x1b[90m;\\x1b[90m^\\x1b[90m=\\x1b[90m:\\x1b[90m.\\x1b[90m\"\\x1b[31mw\\x1b[31mf\\x1b[31mf\\x1b[31m]\\x1b[90mx\\x1b[31my\\n\\x1b[31mz\\x1b[31m2\\x1b[31mt\\x1b[31m3\\x1b[31mJ\\x1b[31me\\x1b[31mT\\x1b[90m%\\x1b[90m{\\x1b[31m1\\x1b[90mc\\x1b[31m]\\x1b[31my\\x1b[31mF\\x1b[31m5\\x1b[31m5\\x1b[31my\\x1b[90mv\\x1b[90m;\\x1b[90m;\\x1b[90m:\\x1b[90m;\\x1b[31m{\\x1b[31mt\\x1b[31m1\\x1b[31mt\\x1b[31m*\\x1b[31mr\\x1b[31m!\\x1b[31m]\\x1b[90m\\\\\\x1b[90mi\\x1b[90m)\\x1b[31m%\\x1b[31mr\\x1b[31m*\\x1b[31m?\\x1b[31m!\\x1b[31m]\\x1b[31m[\\x1b[31m[\\x1b[31m[\\x1b[31m[\\x1b[31m!\\x1b[31mx\\x1b[31ms\\x1b[31m?\\x1b[31m!\\x1b[31m!\\x1b[31m]\\x1b[31m]\\x1b[31m]\\x1b[31m!\\x1b[31mI\\x1b[90m\"\\x1b[90m;\\x1b[90m^\\x1b[90m,\\x1b[90m_\\x1b[90m-\\x1b[90m_\\x1b[90m\\'\\x1b[90m:\\x1b[90m,\\x1b[90m;\\x1b[90m;\\x1b[90m;\\x1b[90m^\\x1b[90m^\\x1b[90m=\\x1b[90m:\\x1b[90m`\\x1b[90m.\\x1b[90m|\\x1b[31mJ\\x1b[31mu\\x1b[31my\\x1b[31m!\\x1b[90mv\\x1b[31mf\\n\\x1b[90mI\\x1b[31mz\\x1b[31me\\x1b[31mz\\x1b[31ma\\x1b[31me\\x1b[31mo\\x1b[31m]\\x1b[90ms\\x1b[90ms\\x1b[31m1\\x1b[31m1\\x1b[31mo\\x1b[31me\\x1b[31mL\\x1b[31mn\\x1b[31mf\\x1b[31m3\\x1b[90mc\\x1b[90m:\\x1b[90m>\\x1b[31m}\\x1b[31m]\\x1b[31mt\\x1b[31m1\\x1b[31m1\\x1b[31m[\\x1b[31m*\\x1b[90m)\\x1b[90m%\\x1b[31m?\\x1b[31m?\\x1b[90m=\\x1b[90m`\\x1b[90m_\\x1b[90m\\'\\x1b[90m,\\x1b[90m^\\x1b[90m=\\x1b[90m/\\x1b[90m\"\\x1b[90m\"\\x1b[90m\"\\x1b[90m+\\x1b[90m)\\x1b[31m{\\x1b[90m\\\\\\x1b[90mi\\x1b[31ms\\x1b[31m]\\x1b[31m]\\x1b[31mI\\x1b[31m{\\x1b[31m}\\x1b[31m?\\x1b[31m!\\x1b[31m!\\x1b[31m?\\x1b[31mv\\x1b[90m<\\x1b[90m<\\x1b[90m\"\\x1b[90m+\\x1b[90m^\\x1b[90m,\\x1b[90m|\\x1b[90m{\\x1b[31m*\\x1b[31m*\\x1b[31m{\\x1b[31mr\\x1b[31ms\\x1b[31m{\\x1b[90m<\\x1b[90m/\\x1b[31m*\\x1b[31m]\\x1b[31m*\\x1b[90m{\\x1b[31m]\\n\\x1b[31mz\\x1b[33mg\\x1b[33mg\\x1b[33mS\\x1b[33mS\\x1b[33mq\\x1b[31mm\\x1b[31mq\\x1b[31m5\\x1b[31m7\\x1b[31mz\\x1b[31m7\\x1b[31m[\\x1b[90mr\\x1b[31mt\\x1b[31me\\x1b[90ms\\x1b[90m)\\x1b[90m;\\x1b[90m;\\x1b[31m*\\x1b[31m1\\x1b[31m[\\x1b[31m[\\x1b[31m1\\x1b[31m?\\x1b[90mi\\x1b[90m<\\x1b[31m}\\x1b[31mI\\x1b[90m<\\x1b[90m\\'\\x1b[90m_\\x1b[90m_\\x1b[90m_\\x1b[90m_\\x1b[90m-\\x1b[90m`\\x1b[90m`\\x1b[90m`\\x1b[90m`\\x1b[90m`\\x1b[90m`\\x1b[90m.\\x1b[90m^\\x1b[31m[\\x1b[90m)\\x1b[90m,\\x1b[31m{\\x1b[31m!\\x1b[31m!\\x1b[31m!\\x1b[31m]\\x1b[31m]\\x1b[31m]\\x1b[31m[\\x1b[31m]\\x1b[31m?\\x1b[31mI\\x1b[31mo\\x1b[31mz\\x1b[31mJ\\x1b[31mT\\x1b[31mn\\x1b[31me\\x1b[90m=\\x1b[31mo\\x1b[31mT\\x1b[31mT\\x1b[31m#\\x1b[31m#\\x1b[31m#\\x1b[31mw\\x1b[90mr\\x1b[90m\\'\\x1b[31mL\\x1b[31mT\\x1b[31mn\\x1b[31mJ\\x1b[31my\\n\\x1b[31m!\\x1b[31mT\\x1b[31mL\\x1b[31mu\\x1b[31mu\\x1b[31mj\\x1b[31mz\\x1b[31mj\\x1b[31mj\\x1b[31mL\\x1b[31mz\\x1b[31mt\\x1b[90mI\\x1b[90ml\\x1b[90m%\\x1b[90m|\\x1b[90m-\\x1b[90m\\'\\x1b[90m<\\x1b[31mt\\x1b[31m#\\x1b[31mT\\x1b[31m#\\x1b[31mu\\x1b[90m}\\x1b[90m%\\x1b[31mI\\x1b[31m?\\x1b[90m<\\x1b[90m:\\x1b[90m\\'\\x1b[90m\\'\\x1b[90m\\'\\x1b[90m_\\x1b[90m_\\x1b[90m_\\x1b[90m_\\x1b[90m\\'\\x1b[90m;\\x1b[90m=\\x1b[90m_\\x1b[90m_\\x1b[90m_\\x1b[90m_\\x1b[90m:\\x1b[90m|\\x1b[90m=\\x1b[90mx\\x1b[31ml\\x1b[31m}\\x1b[31m?\\x1b[31m?\\x1b[31mI\\x1b[31m}\\x1b[31mr\\x1b[31m)\\x1b[90mi\\x1b[90m*\\x1b[31m1\\x1b[31ma\\x1b[31mj\\x1b[31mn\\x1b[31m#\\x1b[31mn\\x1b[31mu\\x1b[90m|\\x1b[90m\\\\\\x1b[90ml\\x1b[90mv\\x1b[90m/\\x1b[90m<\\x1b[90mc\\x1b[90mc\\x1b[90mi\\x1b[90m\\\\\\x1b[90mc\\x1b[90ml\\x1b[90ml\\x1b[90ml\\x1b[90mr\\n\\x1b[31me\\x1b[90mI\\x1b[90m|\\x1b[31mL\\x1b[31mj\\x1b[31mj\\x1b[31mL\\x1b[90m<\\x1b[90m}\\x1b[31mn\\x1b[31mj\\x1b[31mj\\x1b[31mt\\x1b[31mt\\x1b[31m7\\x1b[31ma\\x1b[90mx\\x1b[90m+\\x1b[31m?\\x1b[31m7\\x1b[31mT\\x1b[31mJ\\x1b[31m!\\x1b[90mv\\x1b[31m{\\x1b[31m!\\x1b[90m>\\x1b[90m;\\x1b[90m:\\x1b[90m;\\x1b[90m,\\x1b[90m:\\x1b[90m:\\x1b[90m+\\x1b[90m<\\x1b[90mc\\x1b[31mI\\x1b[31mt\\x1b[31mz\\x1b[31mL\\x1b[90m)\\x1b[90m-\\x1b[90m:\\x1b[90m:\\x1b[90m\\'\\x1b[90m-\\x1b[90m^\\x1b[90m|\\x1b[90m|\\x1b[90m)\\x1b[90m>\\x1b[90mv\\x1b[90mc\\x1b[31m{\\x1b[31m}\\x1b[31m*\\x1b[90ms\\x1b[90ml\\x1b[90mv\\x1b[90m>\\x1b[90m)\\x1b[90m>\\x1b[90mv\\x1b[90m<\\x1b[90m%\\x1b[90m=\\x1b[90mc\\x1b[31mn\\x1b[31m]\\x1b[90m \\x1b[90mi\\x1b[31mT\\x1b[31mu\\x1b[31mn\\x1b[31mT\\x1b[31mT\\x1b[31mT\\x1b[31mT\\x1b[31mT\\x1b[31mT\\x1b[39m'"
            ],
            "application/vnd.google.colaboratory.intrinsic+json": {
              "type": "string"
            }
          },
          "metadata": {},
          "execution_count": 11
        }
      ],
      "source": [
        "from ascii_magic import AsciiArt, Back\n",
        "\n",
        "my_art = AsciiArt.from_image('/content/image.jpg')\n",
        "my_art.to_html_file('/content/picture.html',columns=80,width_ratio=2.2)\n",
        "my_art.to_file('/content/picture.txt',columns=80,width_ratio=2.2) # include back=Back.WHITE or any other primary color to change background color (does not work for html file)"
      ]
    }
  ]
}