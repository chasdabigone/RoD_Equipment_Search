{
  "nbformat": 4,
  "nbformat_minor": 0,
  "metadata": {
    "colab": {
      "provenance": [],
      "name": "rod_ascii_creator.ipynb",
      "toc_visible": true,
      "authorship_tag": "ABX9TyOyrDkslRxdk+N5X+88Ax/K",
      "include_colab_link": true
    },
    "kernelspec": {
      "name": "python3",
      "display_name": "Python 3"
    },
    "language_info": {
      "name": "python"
    }
  },
  "cells": [
    {
      "cell_type": "markdown",
      "metadata": {
        "id": "view-in-github",
        "colab_type": "text"
      },
      "source": [
        "<a href=\"https://colab.research.google.com/github/chasdabigone/RoD_Equipment_Search/blob/main/rod_ascii_creator.ipynb\" target=\"_parent\"><img src=\"https://colab.research.google.com/assets/colab-badge.svg\" alt=\"Open In Colab\"/></a>"
      ]
    },
    {
      "cell_type": "markdown",
      "source": [
        "\n",
        "# 1. Upload your file to the gui on the left as 'image.jpg'\n",
        "# 2. Click runtime->run all\n",
        "# 3. picture.html (viewable with browser) and picture.txt (ascii) will be output as files\n",
        "# 4. adjust columns slider to change width of picture (must re-run program)"
      ],
      "metadata": {
        "id": "tpczsBHvgbZN"
      }
    },
    {
      "cell_type": "code",
      "source": [
        "pip install ascii_magic"
      ],
      "metadata": {
        "colab": {
          "base_uri": "https://localhost:8080/"
        },
        "id": "5kb4hrv4TZju",
        "outputId": "54ca8690-9852-4af5-ffc2-6e352ceb12d0"
      },
      "execution_count": null,
      "outputs": [
        {
          "output_type": "stream",
          "name": "stdout",
          "text": [
            "Collecting ascii_magic\n",
            "  Downloading ascii_magic-2.3.0-py3-none-any.whl (733 kB)\n",
            "\u001b[?25l     \u001b[90m━━━━━━━━━━━━━━━━━━━━━━━━━━━━━━━━━━━━━━━━\u001b[0m \u001b[32m0.0/733.2 kB\u001b[0m \u001b[31m?\u001b[0m eta \u001b[36m-:--:--\u001b[0m\r\u001b[2K     \u001b[91m━━━━━━━━━━━━━━━━━━\u001b[0m\u001b[90m╺\u001b[0m\u001b[90m━━━━━━━━━━━━━━━━━━━━━\u001b[0m \u001b[32m337.9/733.2 kB\u001b[0m \u001b[31m9.9 MB/s\u001b[0m eta \u001b[36m0:00:01\u001b[0m\r\u001b[2K     \u001b[90m━━━━━━━━━━━━━━━━━━━━━━━━━━━━━━━━━━━━━━━━\u001b[0m \u001b[32m733.2/733.2 kB\u001b[0m \u001b[31m14.2 MB/s\u001b[0m eta \u001b[36m0:00:00\u001b[0m\n",
            "\u001b[?25hCollecting colorama (from ascii_magic)\n",
            "  Downloading colorama-0.4.6-py2.py3-none-any.whl (25 kB)\n",
            "Requirement already satisfied: Pillow in /usr/local/lib/python3.10/dist-packages (from ascii_magic) (9.4.0)\n",
            "Installing collected packages: colorama, ascii_magic\n",
            "Successfully installed ascii_magic-2.3.0 colorama-0.4.6\n"
          ]
        }
      ]
    },
    {
      "cell_type": "code",
      "execution_count": null,
      "metadata": {
        "id": "9XWCzIspP2wM"
      },
      "outputs": [],
      "source": [
        "from ascii_magic import AsciiArt, Back\n",
        "\n",
        "# Change columns to adjust width of picture. 80 is max\n",
        "columns = 80 #@param {type: \"slider\", min: 20, max: 80}\n",
        "\n",
        "\n",
        "widthRatio = 2.2\n",
        "def create():\n",
        "  global widthRatio\n",
        "  my_art = AsciiArt.from_image('/content/image.jpg')\n",
        "  my_art.to_html_file('/content/picture.html',columns=columns,width_ratio=widthRatio)\n",
        "  # include back=Back.WHITE or any other primary color to change background color (does not work for html file)\n",
        "  my_art.to_file('/content/picture.txt',columns=columns,width_ratio=widthRatio)\n",
        "\n",
        "  with open(r\"/content/picture.txt\", 'r') as fp:\n",
        "      x = len(fp.readlines())\n",
        "      if x != 24:\n",
        "        widthRatio = widthRatio * x / 24\n",
        "        create()\n",
        "\n",
        "create()\n"
      ]
    }
  ]
}