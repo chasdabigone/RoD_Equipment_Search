{
  "nbformat": 4,
  "nbformat_minor": 0,
  "metadata": {
    "colab": {
      "provenance": [],
      "name": "rod_ascii_creator.ipynb",
      "authorship_tag": "ABX9TyNBJ8G0Gn/Ygx1+8FDYMEk0",
      "include_colab_link": true
    },
    "kernelspec": {
      "name": "python3",
      "display_name": "Python 3"
    },
    "language_info": {
      "name": "python"
    }
  },
  "cells": [
    {
      "cell_type": "markdown",
      "metadata": {
        "id": "view-in-github",
        "colab_type": "text"
      },
      "source": [
        "<a href=\"https://colab.research.google.com/github/chasdabigone/RoD_Equipment_Search/blob/main/rod_ascii_creator.ipynb\" target=\"_parent\"><img src=\"https://colab.research.google.com/assets/colab-badge.svg\" alt=\"Open In Colab\"/></a>"
      ]
    },
    {
      "cell_type": "markdown",
      "source": [
        "\n",
        "# 1. Upload your file to the gui on the left as 'image.jpg'\n",
        "# 2. Click runtime->run all\n",
        "# 3. picture.html (viewable with browser) and picture.txt (ascii) will be output as files\n",
        "# 4. adjust columns slider to change width of picture (must re-run program)"
      ],
      "metadata": {
        "id": "tpczsBHvgbZN"
      }
    },
    {
      "cell_type": "code",
      "source": [
        "pip install ascii_magic"
      ],
      "metadata": {
        "colab": {
          "base_uri": "https://localhost:8080/"
        },
        "id": "5kb4hrv4TZju",
        "outputId": "dc09c678-f73a-435e-c6ed-956ee89cd261"
      },
      "execution_count": 7,
      "outputs": [
        {
          "output_type": "stream",
          "name": "stdout",
          "text": [
            "Requirement already satisfied: ascii_magic in /usr/local/lib/python3.10/dist-packages (2.3.0)\n",
            "Requirement already satisfied: colorama in /usr/local/lib/python3.10/dist-packages (from ascii_magic) (0.4.6)\n",
            "Requirement already satisfied: Pillow in /usr/local/lib/python3.10/dist-packages (from ascii_magic) (9.4.0)\n"
          ]
        }
      ]
    },
    {
      "cell_type": "code",
      "execution_count": 13,
      "metadata": {
        "id": "9XWCzIspP2wM",
        "cellView": "form"
      },
      "outputs": [],
      "source": [
        "from ascii_magic import AsciiArt, Back\n",
        "from PIL import ImageEnhance\n",
        "\n",
        "# Change columns to adjust width of picture. 80 is max\n",
        "columns = 80 #@param {type: \"slider\", min: 20, max: 80}\n",
        "brightness = 1 #@param {type: \"slider\", min: 0.1, max: 2, step: 0.1}\n",
        "contrast = 1.4 #@param {type: \"slider\", min: 0.1, max: 2, step: 0.1}\n",
        "\n",
        "widthRatio = 2.2\n",
        "def create():\n",
        "  global widthRatio\n",
        "  my_art = AsciiArt.from_image('/content/81SKjsTDuDL.png')\n",
        "  my_art.image = ImageEnhance.Brightness(my_art.image).enhance(brightness)\n",
        "  my_art.image = ImageEnhance.Contrast(my_art.image).enhance(contrast)\n",
        "  my_art.to_html_file('/content/picture.html',columns=columns,width_ratio=widthRatio)\n",
        "  my_art.to_file('/content/picture.txt',columns=columns,width_ratio=widthRatio)\n",
        "  # include back=Back.WHITE or any other primary color to change background color (does not work for html file)\n",
        "\n",
        "  with open(r\"/content/picture.txt\", 'r') as fp:\n",
        "      x = len(fp.readlines())\n",
        "      if x != 24:\n",
        "        widthRatio = widthRatio * x / 24\n",
        "        create()\n",
        "\n",
        "create()\n"
      ]
    }
  ]
}